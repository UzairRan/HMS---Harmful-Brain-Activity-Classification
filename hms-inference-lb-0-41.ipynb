{
 "cells": [
  {
   "cell_type": "markdown",
   "id": "baa48f0e",
   "metadata": {
    "papermill": {
     "duration": 0.004177,
     "end_time": "2024-02-05T20:28:24.516256",
     "exception": false,
     "start_time": "2024-02-05T20:28:24.512079",
     "status": "completed"
    },
    "tags": []
   },
   "source": [
    "## 📌 Overview"
   ]
  },
  {
   "cell_type": "markdown",
   "id": "5f90560b",
   "metadata": {
    "papermill": {
     "duration": 0.003503,
     "end_time": "2024-02-05T20:28:24.523859",
     "exception": false,
     "start_time": "2024-02-05T20:28:24.520356",
     "status": "completed"
    },
    "tags": []
   },
   "source": [
    "#### 📋 Key Aspects of the Notebook\n",
    "This notebook is used for the inference of three pretrained models, ResNet34d, EfficientNetB0 and EfficientnetB1: trained exclusively on the Kaggle-provided data (EEG spectrograms) using a batch size of 16. \n",
    "* links:\n",
    "    * https://www.kaggle.com/code/andreasbis/hms-train-resnet34d\n",
    "    * https://www.kaggle.com/code/andreasbis/hms-train-efficientnetb0\n",
    "    * https://www.kaggle.com/code/andreasbis/hms-train-efficientnetb1\n",
    "\n",
    "\n",
    "### 🙏 Acknowledgement\n",
    "Inspired by the work of @yunsuxiaozi. Don't forget to upvote their work if you find it helpful!\n",
    "* links:\n",
    "    * https://www.kaggle.com/code/yunsuxiaozi/hms-baseline-resnet34d-512-512-training-5-folds\n",
    "    * https://www.kaggle.com/code/yunsuxiaozi/hms-baseline-resnet34d-512-512-inference-6-models"
   ]
  },
  {
   "cell_type": "markdown",
   "id": "7c290f21",
   "metadata": {
    "papermill": {
     "duration": 0.003366,
     "end_time": "2024-02-05T20:28:24.530989",
     "exception": false,
     "start_time": "2024-02-05T20:28:24.527623",
     "status": "completed"
    },
    "tags": []
   },
   "source": [
    "## 📙 Import libraries and modules"
   ]
  },
  {
   "cell_type": "code",
   "execution_count": 1,
   "id": "8cc648e4",
   "metadata": {
    "execution": {
     "iopub.execute_input": "2024-02-05T20:28:24.540728Z",
     "iopub.status.busy": "2024-02-05T20:28:24.540074Z",
     "iopub.status.idle": "2024-02-05T20:28:31.617716Z",
     "shell.execute_reply": "2024-02-05T20:28:31.616735Z"
    },
    "papermill": {
     "duration": 7.085202,
     "end_time": "2024-02-05T20:28:31.620064",
     "exception": false,
     "start_time": "2024-02-05T20:28:24.534862",
     "status": "completed"
    },
    "tags": []
   },
   "outputs": [
    {
     "data": {
      "text/plain": [
       "46"
      ]
     },
     "execution_count": 1,
     "metadata": {},
     "output_type": "execute_result"
    }
   ],
   "source": [
    "# Importing essential libraries\n",
    "import gc\n",
    "import os\n",
    "import random\n",
    "import warnings\n",
    "import numpy as np\n",
    "import pandas as pd\n",
    "from IPython.display import display\n",
    "\n",
    "# PyTorch for deep learning\n",
    "import timm\n",
    "import torch\n",
    "import torch.nn as nn  \n",
    "import torch.optim as optim\n",
    "import torch.nn.functional as F\n",
    "\n",
    "# torchvision for image processing and augmentation\n",
    "import torchvision.transforms as transforms\n",
    "\n",
    "# Suppressing minor warnings to keep the output clean\n",
    "warnings.filterwarnings('ignore', category=Warning)\n",
    "\n",
    "# Reclaim memory no longer in use.\n",
    "gc.collect()"
   ]
  },
  {
   "cell_type": "markdown",
   "id": "fad9b5d8",
   "metadata": {
    "papermill": {
     "duration": 0.003664,
     "end_time": "2024-02-05T20:28:31.627764",
     "exception": false,
     "start_time": "2024-02-05T20:28:31.624100",
     "status": "completed"
    },
    "tags": []
   },
   "source": [
    "## ⚙️ Configuration"
   ]
  },
  {
   "cell_type": "code",
   "execution_count": 2,
   "id": "2aaa78ae",
   "metadata": {
    "execution": {
     "iopub.execute_input": "2024-02-05T20:28:31.637429Z",
     "iopub.status.busy": "2024-02-05T20:28:31.636659Z",
     "iopub.status.idle": "2024-02-05T20:28:31.648089Z",
     "shell.execute_reply": "2024-02-05T20:28:31.646975Z"
    },
    "papermill": {
     "duration": 0.018921,
     "end_time": "2024-02-05T20:28:31.650463",
     "exception": false,
     "start_time": "2024-02-05T20:28:31.631542",
     "status": "completed"
    },
    "tags": []
   },
   "outputs": [],
   "source": [
    "class Config:\n",
    "    seed=42\n",
    "    image_transform=transforms.Resize((512, 512))\n",
    "    num_folds=5\n",
    "    \n",
    "# Set the seed for reproducibility across multiple libraries\n",
    "def set_seed(seed):\n",
    "    torch.backends.cudnn.deterministic = True\n",
    "    torch.backends.cudnn.benchmark = True\n",
    "    torch.manual_seed(seed)\n",
    "    np.random.seed(seed)\n",
    "    random.seed(seed)\n",
    "    \n",
    "set_seed(Config.seed)"
   ]
  },
  {
   "cell_type": "markdown",
   "id": "0852bde8",
   "metadata": {
    "papermill": {
     "duration": 0.003624,
     "end_time": "2024-02-05T20:28:31.658144",
     "exception": false,
     "start_time": "2024-02-05T20:28:31.654520",
     "status": "completed"
    },
    "tags": []
   },
   "source": [
    "## 📂 Data Loading"
   ]
  },
  {
   "cell_type": "code",
   "execution_count": 3,
   "id": "1a30c719",
   "metadata": {
    "execution": {
     "iopub.execute_input": "2024-02-05T20:28:31.667850Z",
     "iopub.status.busy": "2024-02-05T20:28:31.666979Z",
     "iopub.status.idle": "2024-02-05T20:28:43.090044Z",
     "shell.execute_reply": "2024-02-05T20:28:43.088828Z"
    },
    "papermill": {
     "duration": 11.430685,
     "end_time": "2024-02-05T20:28:43.092600",
     "exception": false,
     "start_time": "2024-02-05T20:28:31.661915",
     "status": "completed"
    },
    "tags": []
   },
   "outputs": [
    {
     "data": {
      "text/plain": [
       "18"
      ]
     },
     "execution_count": 3,
     "metadata": {},
     "output_type": "execute_result"
    }
   ],
   "source": [
    "# Load and store the trained models for each fold into a list\n",
    "models = []\n",
    "\n",
    "# Load ResNet34d\n",
    "for i in range(Config.num_folds):\n",
    "    # Create the same model architecture as during training\n",
    "    model_resnet = timm.create_model('resnet34d', pretrained=False, num_classes=6, in_chans=1)\n",
    "    \n",
    "    # Load the trained weights from the corresponding file\n",
    "    model_resnet.load_state_dict(torch.load(f'/kaggle/input/hms-train-resnet34d/resnet34d_fold{i}.pth', map_location=torch.device('cpu')))\n",
    "    \n",
    "    # Append the loaded model to the models list\n",
    "    models.append(model_resnet)\n",
    "\n",
    "# Reclaim memory no longer in use.\n",
    "gc.collect()\n",
    "\n",
    "# Load EfficientNetB0\n",
    "for j in range(Config.num_folds):\n",
    "    # Create the same model architecture as during training\n",
    "    model_effnet_b0 = timm.create_model('efficientnet_b0', pretrained=False, num_classes=6, in_chans=1)\n",
    "    \n",
    "    # Load the trained weights from the corresponding file\n",
    "    model_effnet_b0.load_state_dict(torch.load(f'/kaggle/input/hms-train-efficientnetb0/efficientnet_b0_fold{j}.pth', map_location=torch.device('cpu')))\n",
    "    \n",
    "    # Append the loaded model to the models list\n",
    "    models.append(model_effnet_b0)\n",
    "    \n",
    "# Reclaim memory no longer in use.\n",
    "gc.collect()\n",
    "    \n",
    "# Load EfficientNetB1\n",
    "for k in range(Config.num_folds):\n",
    "    # Create the same model architecture as during training\n",
    "    model_effnet_b1 = timm.create_model('efficientnet_b1', pretrained=False, num_classes=6, in_chans=1)\n",
    "    \n",
    "    # Load the trained weights from the corresponding file\n",
    "    model_effnet_b1.load_state_dict(torch.load(f'/kaggle/input/hms-train-efficientnetb1/efficientnet_b1_fold{k}.pth', map_location=torch.device('cpu')))\n",
    "    \n",
    "    # Append the loaded model to the models list\n",
    "    models.append(model_effnet_b1)\n",
    "\n",
    "# Reclaim memory no longer in use.\n",
    "gc.collect()"
   ]
  },
  {
   "cell_type": "code",
   "execution_count": 4,
   "id": "75013a16",
   "metadata": {
    "execution": {
     "iopub.execute_input": "2024-02-05T20:28:43.103657Z",
     "iopub.status.busy": "2024-02-05T20:28:43.102640Z",
     "iopub.status.idle": "2024-02-05T20:28:43.340065Z",
     "shell.execute_reply": "2024-02-05T20:28:43.338948Z"
    },
    "papermill": {
     "duration": 0.245348,
     "end_time": "2024-02-05T20:28:43.342250",
     "exception": false,
     "start_time": "2024-02-05T20:28:43.096902",
     "status": "completed"
    },
    "tags": []
   },
   "outputs": [
    {
     "data": {
      "text/html": [
       "<div>\n",
       "<style scoped>\n",
       "    .dataframe tbody tr th:only-of-type {\n",
       "        vertical-align: middle;\n",
       "    }\n",
       "\n",
       "    .dataframe tbody tr th {\n",
       "        vertical-align: top;\n",
       "    }\n",
       "\n",
       "    .dataframe thead th {\n",
       "        text-align: right;\n",
       "    }\n",
       "</style>\n",
       "<table border=\"1\" class=\"dataframe\">\n",
       "  <thead>\n",
       "    <tr style=\"text-align: right;\">\n",
       "      <th></th>\n",
       "      <th>eeg_id</th>\n",
       "      <th>seizure_vote</th>\n",
       "      <th>lpd_vote</th>\n",
       "      <th>gpd_vote</th>\n",
       "      <th>lrda_vote</th>\n",
       "      <th>grda_vote</th>\n",
       "      <th>other_vote</th>\n",
       "      <th>spectrogram_id</th>\n",
       "      <th>patient_id</th>\n",
       "      <th>path</th>\n",
       "    </tr>\n",
       "  </thead>\n",
       "  <tbody>\n",
       "    <tr>\n",
       "      <th>0</th>\n",
       "      <td>3911565283</td>\n",
       "      <td>0.166667</td>\n",
       "      <td>0.166667</td>\n",
       "      <td>0.166667</td>\n",
       "      <td>0.166667</td>\n",
       "      <td>0.166667</td>\n",
       "      <td>0.166667</td>\n",
       "      <td>853520</td>\n",
       "      <td>6885</td>\n",
       "      <td>/kaggle/input/hms-harmful-brain-activity-class...</td>\n",
       "    </tr>\n",
       "  </tbody>\n",
       "</table>\n",
       "</div>"
      ],
      "text/plain": [
       "       eeg_id  seizure_vote  lpd_vote  gpd_vote  lrda_vote  grda_vote  \\\n",
       "0  3911565283      0.166667  0.166667  0.166667   0.166667   0.166667   \n",
       "\n",
       "   other_vote  spectrogram_id  patient_id  \\\n",
       "0    0.166667          853520        6885   \n",
       "\n",
       "                                                path  \n",
       "0  /kaggle/input/hms-harmful-brain-activity-class...  "
      ]
     },
     "metadata": {},
     "output_type": "display_data"
    },
    {
     "data": {
      "text/plain": [
       "0"
      ]
     },
     "execution_count": 4,
     "metadata": {},
     "output_type": "execute_result"
    }
   ],
   "source": [
    "# Load test data and sample submission dataframe\n",
    "test_df = pd.read_csv(\"/kaggle/input/hms-harmful-brain-activity-classification/test.csv\")\n",
    "submission = pd.read_csv(\"/kaggle/input/hms-harmful-brain-activity-classification/sample_submission.csv\")\n",
    "\n",
    "# Merge the submission dataframe with the test data on EEG IDs\n",
    "submission = submission.merge(test_df, on='eeg_id', how='left')\n",
    "\n",
    "# Generate file paths for each spectrogram based on the EEG data in the submission dataframe\n",
    "submission['path'] = submission['spectrogram_id'].apply(lambda x: f\"/kaggle/input/hms-harmful-brain-activity-classification/test_spectrograms/{x}.parquet\")\n",
    "\n",
    "# Display the first few rows of the submission dataframe\n",
    "display(submission.head())\n",
    "\n",
    "# Reclaim memory no longer in use\n",
    "gc.collect()"
   ]
  },
  {
   "cell_type": "markdown",
   "id": "ae1f744a",
   "metadata": {
    "papermill": {
     "duration": 0.004105,
     "end_time": "2024-02-05T20:28:43.350674",
     "exception": false,
     "start_time": "2024-02-05T20:28:43.346569",
     "status": "completed"
    },
    "tags": []
   },
   "source": [
    "## 🎰 Predictions"
   ]
  },
  {
   "cell_type": "code",
   "execution_count": 5,
   "id": "412dbe2a",
   "metadata": {
    "execution": {
     "iopub.execute_input": "2024-02-05T20:28:43.361371Z",
     "iopub.status.busy": "2024-02-05T20:28:43.360620Z",
     "iopub.status.idle": "2024-02-05T20:28:47.361562Z",
     "shell.execute_reply": "2024-02-05T20:28:47.360414Z"
    },
    "papermill": {
     "duration": 4.008995,
     "end_time": "2024-02-05T20:28:47.363958",
     "exception": false,
     "start_time": "2024-02-05T20:28:43.354963",
     "status": "completed"
    },
    "tags": []
   },
   "outputs": [
    {
     "data": {
      "text/plain": [
       "0"
      ]
     },
     "execution_count": 5,
     "metadata": {},
     "output_type": "execute_result"
    }
   ],
   "source": [
    "# Define the weights for each model\n",
    "weight_resnet34d = 0.25\n",
    "weight_effnetb0 = 0.42\n",
    "weight_effnetb1 = 0.33\n",
    "\n",
    "# Get file paths for test spectrograms\n",
    "paths = submission['path'].values\n",
    "test_preds = []\n",
    "\n",
    "# Generate predictions for each spectrogram using all models\n",
    "for path in paths:\n",
    "    eps = 1e-6\n",
    "    # Read and preprocess spectrogram data\n",
    "    data = pd.read_parquet(path)\n",
    "    data = data.fillna(-1).values[:, 1:].T\n",
    "    data = np.clip(data, np.exp(-6), np.exp(10))\n",
    "    data = np.log(data)\n",
    "    \n",
    "    # Normalize the data\n",
    "    data_mean = data.mean(axis=(0, 1))\n",
    "    data_std = data.std(axis=(0, 1))\n",
    "    data = (data - data_mean) / (data_std + eps)\n",
    "    data_tensor = torch.unsqueeze(torch.Tensor(data), dim=0)\n",
    "    data = Config.image_transform(data_tensor)\n",
    "\n",
    "    test_pred = []\n",
    "    \n",
    "    # Generate predictions using all models\n",
    "    for model in models:\n",
    "        model.eval()\n",
    "        with torch.no_grad():\n",
    "            pred = F.softmax(model(data.unsqueeze(0)))[0]\n",
    "            pred = pred.detach().cpu().numpy()\n",
    "        test_pred.append(pred)\n",
    "        \n",
    "    # Combine predictions from all models using weighted voting\n",
    "    weighted_pred = weight_resnet34d * np.mean(test_pred[:Config.num_folds], axis=0) + \\\n",
    "                     weight_effnetb0 * np.mean(test_pred[Config.num_folds:2*Config.num_folds], axis=0) + \\\n",
    "                     weight_effnetb1 * np.mean(test_pred[2*Config.num_folds:], axis=0)\n",
    "    \n",
    "    test_preds.append(weighted_pred)\n",
    "\n",
    "# Convert the list of predictions to a NumPy array for further processing\n",
    "test_preds = np.array(test_preds)\n",
    "\n",
    "# Reclaim memory no longer in use\n",
    "gc.collect()"
   ]
  },
  {
   "cell_type": "markdown",
   "id": "7cbeefbf",
   "metadata": {
    "papermill": {
     "duration": 0.004161,
     "end_time": "2024-02-05T20:28:47.372729",
     "exception": false,
     "start_time": "2024-02-05T20:28:47.368568",
     "status": "completed"
    },
    "tags": []
   },
   "source": [
    "## 🚀 Submission"
   ]
  },
  {
   "cell_type": "code",
   "execution_count": 6,
   "id": "242e8dce",
   "metadata": {
    "execution": {
     "iopub.execute_input": "2024-02-05T20:28:47.383351Z",
     "iopub.status.busy": "2024-02-05T20:28:47.382953Z",
     "iopub.status.idle": "2024-02-05T20:28:47.589789Z",
     "shell.execute_reply": "2024-02-05T20:28:47.588354Z"
    },
    "papermill": {
     "duration": 0.215546,
     "end_time": "2024-02-05T20:28:47.592772",
     "exception": false,
     "start_time": "2024-02-05T20:28:47.377226",
     "status": "completed"
    },
    "tags": []
   },
   "outputs": [
    {
     "data": {
      "text/html": [
       "<div>\n",
       "<style scoped>\n",
       "    .dataframe tbody tr th:only-of-type {\n",
       "        vertical-align: middle;\n",
       "    }\n",
       "\n",
       "    .dataframe tbody tr th {\n",
       "        vertical-align: top;\n",
       "    }\n",
       "\n",
       "    .dataframe thead th {\n",
       "        text-align: right;\n",
       "    }\n",
       "</style>\n",
       "<table border=\"1\" class=\"dataframe\">\n",
       "  <thead>\n",
       "    <tr style=\"text-align: right;\">\n",
       "      <th></th>\n",
       "      <th>eeg_id</th>\n",
       "      <th>seizure_vote</th>\n",
       "      <th>lpd_vote</th>\n",
       "      <th>gpd_vote</th>\n",
       "      <th>lrda_vote</th>\n",
       "      <th>grda_vote</th>\n",
       "      <th>other_vote</th>\n",
       "    </tr>\n",
       "  </thead>\n",
       "  <tbody>\n",
       "    <tr>\n",
       "      <th>0</th>\n",
       "      <td>3911565283</td>\n",
       "      <td>0.032143</td>\n",
       "      <td>0.098905</td>\n",
       "      <td>0.000776</td>\n",
       "      <td>0.379415</td>\n",
       "      <td>0.010905</td>\n",
       "      <td>0.477857</td>\n",
       "    </tr>\n",
       "  </tbody>\n",
       "</table>\n",
       "</div>"
      ],
      "text/plain": [
       "       eeg_id  seizure_vote  lpd_vote  gpd_vote  lrda_vote  grda_vote  \\\n",
       "0  3911565283      0.032143  0.098905  0.000776   0.379415   0.010905   \n",
       "\n",
       "   other_vote  \n",
       "0    0.477857  "
      ]
     },
     "metadata": {},
     "output_type": "display_data"
    },
    {
     "data": {
      "text/plain": [
       "0"
      ]
     },
     "execution_count": 6,
     "metadata": {},
     "output_type": "execute_result"
    }
   ],
   "source": [
    "# Load the sample submission file and update it with model predictions for each label\n",
    "submission = pd.read_csv(\"/kaggle/input/hms-harmful-brain-activity-classification/sample_submission.csv\")\n",
    "labels = ['seizure', 'lpd', 'gpd', 'lrda', 'grda', 'other']\n",
    "\n",
    "# Assign model predictions to respective columns in the submission DataFrame\n",
    "for i in range(len(labels)):\n",
    "    submission[f'{labels[i]}_vote'] = test_preds[:, i]\n",
    "\n",
    "# Save the updated DataFrame as the final submission file\n",
    "submission.to_csv(\"submission.csv\", index=None)\n",
    "\n",
    "# Display the first few rows of the submission file\n",
    "display(submission.head())\n",
    "\n",
    "# Reclaim memory no longer in use.\n",
    "gc.collect()"
   ]
  },
  {
   "cell_type": "code",
   "execution_count": null,
   "id": "77b21bef",
   "metadata": {
    "papermill": {
     "duration": 0.005546,
     "end_time": "2024-02-05T20:28:47.605084",
     "exception": false,
     "start_time": "2024-02-05T20:28:47.599538",
     "status": "completed"
    },
    "tags": []
   },
   "outputs": [],
   "source": []
  }
 ],
 "metadata": {
  "kaggle": {
   "accelerator": "none",
   "dataSources": [
    {
     "databundleVersionId": 7469972,
     "sourceId": 59093,
     "sourceType": "competition"
    },
    {
     "sourceId": 160674831,
     "sourceType": "kernelVersion"
    },
    {
     "sourceId": 160700706,
     "sourceType": "kernelVersion"
    },
    {
     "sourceId": 161586765,
     "sourceType": "kernelVersion"
    }
   ],
   "dockerImageVersionId": 30635,
   "isGpuEnabled": false,
   "isInternetEnabled": false,
   "language": "python",
   "sourceType": "notebook"
  },
  "kernelspec": {
   "display_name": "Python 3",
   "language": "python",
   "name": "python3"
  },
  "language_info": {
   "codemirror_mode": {
    "name": "ipython",
    "version": 3
   },
   "file_extension": ".py",
   "mimetype": "text/x-python",
   "name": "python",
   "nbconvert_exporter": "python",
   "pygments_lexer": "ipython3",
   "version": "3.10.12"
  },
  "papermill": {
   "default_parameters": {},
   "duration": 28.395702,
   "end_time": "2024-02-05T20:28:48.939672",
   "environment_variables": {},
   "exception": null,
   "input_path": "__notebook__.ipynb",
   "output_path": "__notebook__.ipynb",
   "parameters": {},
   "start_time": "2024-02-05T20:28:20.543970",
   "version": "2.4.0"
  }
 },
 "nbformat": 4,
 "nbformat_minor": 5
}
