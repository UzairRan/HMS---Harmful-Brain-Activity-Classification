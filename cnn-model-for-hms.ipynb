{
 "cells": [
  {
   "cell_type": "markdown",
   "id": "acf69deb",
   "metadata": {
    "_cell_guid": "b1076dfc-b9ad-4769-8c92-a6c4dae69d19",
    "_uuid": "8f2839f25d086af736a60e9eeb907d3b93b6e0e5",
    "papermill": {
     "duration": 0.006501,
     "end_time": "2024-02-15T14:39:33.971831",
     "exception": false,
     "start_time": "2024-02-15T14:39:33.965330",
     "status": "completed"
    },
    "tags": []
   },
   "source": [
    "# Import Necessary libraries"
   ]
  },
  {
   "cell_type": "code",
   "execution_count": 1,
   "id": "6a3fa56a",
   "metadata": {
    "execution": {
     "iopub.execute_input": "2024-02-15T14:39:33.986838Z",
     "iopub.status.busy": "2024-02-15T14:39:33.986028Z",
     "iopub.status.idle": "2024-02-15T14:39:51.433116Z",
     "shell.execute_reply": "2024-02-15T14:39:51.432144Z"
    },
    "papermill": {
     "duration": 17.457591,
     "end_time": "2024-02-15T14:39:51.435697",
     "exception": false,
     "start_time": "2024-02-15T14:39:33.978106",
     "status": "completed"
    },
    "tags": []
   },
   "outputs": [
    {
     "name": "stderr",
     "output_type": "stream",
     "text": [
      "2024-02-15 14:39:38.992158: E external/local_xla/xla/stream_executor/cuda/cuda_dnn.cc:9261] Unable to register cuDNN factory: Attempting to register factory for plugin cuDNN when one has already been registered\n",
      "2024-02-15 14:39:38.992354: E external/local_xla/xla/stream_executor/cuda/cuda_fft.cc:607] Unable to register cuFFT factory: Attempting to register factory for plugin cuFFT when one has already been registered\n",
      "2024-02-15 14:39:39.158584: E external/local_xla/xla/stream_executor/cuda/cuda_blas.cc:1515] Unable to register cuBLAS factory: Attempting to register factory for plugin cuBLAS when one has already been registered\n"
     ]
    }
   ],
   "source": [
    "import numpy as np\n",
    "import pandas as pd\n",
    "import matplotlib.pyplot as plt\n",
    "import seaborn as sns\n",
    "import os\n",
    "from sklearn.model_selection import train_test_split\n",
    "from sklearn.preprocessing import LabelEncoder\n",
    "from keras.models import Sequential\n",
    "from keras.layers import Conv2D, MaxPooling2D, Flatten, Dense, Dropout\n",
    "from keras.callbacks import EarlyStopping, ModelCheckpoint"
   ]
  },
  {
   "cell_type": "markdown",
   "id": "5e84248e",
   "metadata": {
    "papermill": {
     "duration": 0.006005,
     "end_time": "2024-02-15T14:39:51.447953",
     "exception": false,
     "start_time": "2024-02-15T14:39:51.441948",
     "status": "completed"
    },
    "tags": []
   },
   "source": [
    "# Exploratory data analysis"
   ]
  },
  {
   "cell_type": "markdown",
   "id": "f681a502",
   "metadata": {
    "papermill": {
     "duration": 0.005999,
     "end_time": "2024-02-15T14:39:51.460412",
     "exception": false,
     "start_time": "2024-02-15T14:39:51.454413",
     "status": "completed"
    },
    "tags": []
   },
   "source": [
    "**Load train and test data**"
   ]
  },
  {
   "cell_type": "code",
   "execution_count": 2,
   "id": "4168431e",
   "metadata": {
    "execution": {
     "iopub.execute_input": "2024-02-15T14:39:51.475081Z",
     "iopub.status.busy": "2024-02-15T14:39:51.474386Z",
     "iopub.status.idle": "2024-02-15T14:39:51.762218Z",
     "shell.execute_reply": "2024-02-15T14:39:51.761011Z"
    },
    "papermill": {
     "duration": 0.298398,
     "end_time": "2024-02-15T14:39:51.765070",
     "exception": false,
     "start_time": "2024-02-15T14:39:51.466672",
     "status": "completed"
    },
    "tags": []
   },
   "outputs": [],
   "source": [
    "train_metadata = pd.read_csv(\"/kaggle/input/hms-harmful-brain-activity-classification/train.csv\")\n",
    "test_metadata = pd.read_csv(\"/kaggle/input/hms-harmful-brain-activity-classification/test.csv\")\n",
    "sample_submission = pd.read_csv(\"/kaggle/input/hms-harmful-brain-activity-classification/sample_submission.csv\")"
   ]
  },
  {
   "cell_type": "markdown",
   "id": "24179ec8",
   "metadata": {
    "papermill": {
     "duration": 0.006146,
     "end_time": "2024-02-15T14:39:51.777627",
     "exception": false,
     "start_time": "2024-02-15T14:39:51.771481",
     "status": "completed"
    },
    "tags": []
   },
   "source": [
    "**Display dataset overview**"
   ]
  },
  {
   "cell_type": "code",
   "execution_count": 3,
   "id": "adc7732d",
   "metadata": {
    "execution": {
     "iopub.execute_input": "2024-02-15T14:39:51.793730Z",
     "iopub.status.busy": "2024-02-15T14:39:51.792447Z",
     "iopub.status.idle": "2024-02-15T14:39:51.831926Z",
     "shell.execute_reply": "2024-02-15T14:39:51.830735Z"
    },
    "papermill": {
     "duration": 0.050166,
     "end_time": "2024-02-15T14:39:51.834599",
     "exception": false,
     "start_time": "2024-02-15T14:39:51.784433",
     "status": "completed"
    },
    "tags": []
   },
   "outputs": [
    {
     "name": "stdout",
     "output_type": "stream",
     "text": [
      "Train Metadata:\n",
      "<class 'pandas.core.frame.DataFrame'>\n",
      "RangeIndex: 106800 entries, 0 to 106799\n",
      "Data columns (total 15 columns):\n",
      " #   Column                            Non-Null Count   Dtype  \n",
      "---  ------                            --------------   -----  \n",
      " 0   eeg_id                            106800 non-null  int64  \n",
      " 1   eeg_sub_id                        106800 non-null  int64  \n",
      " 2   eeg_label_offset_seconds          106800 non-null  float64\n",
      " 3   spectrogram_id                    106800 non-null  int64  \n",
      " 4   spectrogram_sub_id                106800 non-null  int64  \n",
      " 5   spectrogram_label_offset_seconds  106800 non-null  float64\n",
      " 6   label_id                          106800 non-null  int64  \n",
      " 7   patient_id                        106800 non-null  int64  \n",
      " 8   expert_consensus                  106800 non-null  object \n",
      " 9   seizure_vote                      106800 non-null  int64  \n",
      " 10  lpd_vote                          106800 non-null  int64  \n",
      " 11  gpd_vote                          106800 non-null  int64  \n",
      " 12  lrda_vote                         106800 non-null  int64  \n",
      " 13  grda_vote                         106800 non-null  int64  \n",
      " 14  other_vote                        106800 non-null  int64  \n",
      "dtypes: float64(2), int64(12), object(1)\n",
      "memory usage: 12.2+ MB\n",
      "None\n"
     ]
    }
   ],
   "source": [
    "print(\"Train Metadata:\")\n",
    "print(train_metadata.info())\n"
   ]
  },
  {
   "cell_type": "code",
   "execution_count": 4,
   "id": "b5783e55",
   "metadata": {
    "execution": {
     "iopub.execute_input": "2024-02-15T14:39:51.849617Z",
     "iopub.status.busy": "2024-02-15T14:39:51.849181Z",
     "iopub.status.idle": "2024-02-15T14:39:51.860277Z",
     "shell.execute_reply": "2024-02-15T14:39:51.858925Z"
    },
    "papermill": {
     "duration": 0.021567,
     "end_time": "2024-02-15T14:39:51.862849",
     "exception": false,
     "start_time": "2024-02-15T14:39:51.841282",
     "status": "completed"
    },
    "tags": []
   },
   "outputs": [
    {
     "name": "stdout",
     "output_type": "stream",
     "text": [
      "\n",
      "Test Metadata:\n",
      "<class 'pandas.core.frame.DataFrame'>\n",
      "RangeIndex: 1 entries, 0 to 0\n",
      "Data columns (total 3 columns):\n",
      " #   Column          Non-Null Count  Dtype\n",
      "---  ------          --------------  -----\n",
      " 0   spectrogram_id  1 non-null      int64\n",
      " 1   eeg_id          1 non-null      int64\n",
      " 2   patient_id      1 non-null      int64\n",
      "dtypes: int64(3)\n",
      "memory usage: 152.0 bytes\n",
      "None\n"
     ]
    }
   ],
   "source": [
    "print(\"\\nTest Metadata:\")\n",
    "print(test_metadata.info())\n"
   ]
  },
  {
   "cell_type": "code",
   "execution_count": 5,
   "id": "8afeb8fa",
   "metadata": {
    "execution": {
     "iopub.execute_input": "2024-02-15T14:39:51.877687Z",
     "iopub.status.busy": "2024-02-15T14:39:51.877224Z",
     "iopub.status.idle": "2024-02-15T14:39:51.888775Z",
     "shell.execute_reply": "2024-02-15T14:39:51.887196Z"
    },
    "papermill": {
     "duration": 0.022084,
     "end_time": "2024-02-15T14:39:51.891336",
     "exception": false,
     "start_time": "2024-02-15T14:39:51.869252",
     "status": "completed"
    },
    "tags": []
   },
   "outputs": [
    {
     "name": "stdout",
     "output_type": "stream",
     "text": [
      "\n",
      "Sample Submission:\n",
      "<class 'pandas.core.frame.DataFrame'>\n",
      "RangeIndex: 1 entries, 0 to 0\n",
      "Data columns (total 7 columns):\n",
      " #   Column        Non-Null Count  Dtype  \n",
      "---  ------        --------------  -----  \n",
      " 0   eeg_id        1 non-null      int64  \n",
      " 1   seizure_vote  1 non-null      float64\n",
      " 2   lpd_vote      1 non-null      float64\n",
      " 3   gpd_vote      1 non-null      float64\n",
      " 4   lrda_vote     1 non-null      float64\n",
      " 5   grda_vote     1 non-null      float64\n",
      " 6   other_vote    1 non-null      float64\n",
      "dtypes: float64(6), int64(1)\n",
      "memory usage: 184.0 bytes\n",
      "None\n"
     ]
    }
   ],
   "source": [
    "print(\"\\nSample Submission:\")\n",
    "print(sample_submission.info())"
   ]
  },
  {
   "cell_type": "markdown",
   "id": "276b094d",
   "metadata": {
    "papermill": {
     "duration": 0.006172,
     "end_time": "2024-02-15T14:39:51.904539",
     "exception": false,
     "start_time": "2024-02-15T14:39:51.898367",
     "status": "completed"
    },
    "tags": []
   },
   "source": [
    "**Load EEG and spectrogram data**"
   ]
  },
  {
   "cell_type": "code",
   "execution_count": 6,
   "id": "4f83e336",
   "metadata": {
    "execution": {
     "iopub.execute_input": "2024-02-15T14:39:51.920808Z",
     "iopub.status.busy": "2024-02-15T14:39:51.919979Z",
     "iopub.status.idle": "2024-02-15T14:39:52.392621Z",
     "shell.execute_reply": "2024-02-15T14:39:52.391543Z"
    },
    "papermill": {
     "duration": 0.483182,
     "end_time": "2024-02-15T14:39:52.395173",
     "exception": false,
     "start_time": "2024-02-15T14:39:51.911991",
     "status": "completed"
    },
    "tags": []
   },
   "outputs": [],
   "source": [
    "import pandas as pd\n",
    "import os\n",
    "\n",
    "# Function to load EEG data from Parquet files\n",
    "def load_eeg_data(file):\n",
    "    try:\n",
    "        data = pd.read_parquet(file)\n",
    "        return data\n",
    "    except FileNotFoundError:\n",
    "        print(f\"File {file} not found.\")\n",
    "\n",
    "# Function to load spectrogram data from Parquet files\n",
    "def load_spectrogram_data(file):\n",
    "    try:\n",
    "        data = pd.read_parquet(file)\n",
    "        return data\n",
    "    except FileNotFoundError:\n",
    "        print(f\"File {file} not found.\")\n",
    "\n",
    "# Specify relevant file links based on the provided list and competition goal\n",
    "train_eegs_files = [\n",
    "    '/kaggle/input/hms-harmful-brain-activity-classification/train_eegs/1001487592.parquet'\n",
    "]  # List of file paths for training EEG data\n",
    "\n",
    "test_eegs_files = [\n",
    "    '/kaggle/input/hms-harmful-brain-activity-classification/test_eegs/3911565283.parquet'\n",
    "]  # List of file paths for test EEG data\n",
    "\n",
    "train_spectrograms_files = [\n",
    "    '/kaggle/input/hms-harmful-brain-activity-classification/train_spectrograms/1000086677.parquet',\n",
    "    '/kaggle/input/hms-harmful-brain-activity-classification/train_spectrograms/1000189855.parquet',\n",
    "    '/kaggle/input/hms-harmful-brain-activity-classification/train_spectrograms/1000317312.parquet',\n",
    "    '/kaggle/input/hms-harmful-brain-activity-classification/train_spectrograms/1000381196.parquet',\n",
    "    '/kaggle/input/hms-harmful-brain-activity-classification/train_spectrograms/1000493950.parquet'\n",
    "]  # List of file paths for training spectrogram data\n",
    "\n",
    "test_spectrograms_files = [\n",
    "    '/kaggle/input/hms-harmful-brain-activity-classification/test_spectrograms/853520.parquet'\n",
    "]  # List of file paths for test spectrogram data\n",
    "\n",
    "# Load relevant EEG data\n",
    "train_eegs = []\n",
    "for file in train_eegs_files:\n",
    "    data = load_eeg_data(file)\n",
    "    if data is not None:\n",
    "        train_eegs.append(data)\n",
    "\n",
    "test_eegs = []\n",
    "for file in test_eegs_files:\n",
    "    data = load_eeg_data(file)\n",
    "    if data is not None:\n",
    "        test_eegs.append(data)\n",
    "\n",
    "# Load relevant spectrogram data\n",
    "train_spectrograms = []\n",
    "for file in train_spectrograms_files:\n",
    "    data = load_spectrogram_data(file)\n",
    "    if data is not None:\n",
    "        train_spectrograms.append(data)\n",
    "\n",
    "test_spectrograms = []\n",
    "for file in test_spectrograms_files:\n",
    "    data = load_spectrogram_data(file)\n",
    "    if data is not None:\n",
    "        test_spectrograms.append(data)\n",
    "\n"
   ]
  },
  {
   "cell_type": "code",
   "execution_count": 7,
   "id": "356d38ee",
   "metadata": {
    "execution": {
     "iopub.execute_input": "2024-02-15T14:39:52.410417Z",
     "iopub.status.busy": "2024-02-15T14:39:52.409800Z",
     "iopub.status.idle": "2024-02-15T14:39:52.426719Z",
     "shell.execute_reply": "2024-02-15T14:39:52.425109Z"
    },
    "papermill": {
     "duration": 0.027516,
     "end_time": "2024-02-15T14:39:52.429337",
     "exception": false,
     "start_time": "2024-02-15T14:39:52.401821",
     "status": "completed"
    },
    "tags": []
   },
   "outputs": [
    {
     "name": "stdout",
     "output_type": "stream",
     "text": [
      "Train EEGs Data:\n",
      "         Fp1         F3         C3          P3         F7         T3  \\\n",
      "0  64.070000  58.750000  60.349998   82.410004  83.209999  74.430000   \n",
      "1 -68.849998 -70.180000 -65.400002  -41.740002 -43.330002 -47.849998   \n",
      "2 -59.810001 -59.020000 -49.450001  -17.010000 -29.240000 -29.770000   \n",
      "3  70.709999  72.839996  80.019997  110.059998  98.360001  98.089996   \n",
      "4 -48.119999 -43.599998 -37.220001  -15.150000 -21.000000 -22.059999   \n",
      "\n",
      "           T5          O1         Fz         Cz         Pz         Fp2  \\\n",
      "0   81.879997   77.360001  50.240002  46.520000  64.599998  105.800003   \n",
      "1  -42.529999  -21.000000 -78.690002 -81.349998 -49.980000  -34.290001   \n",
      "2  -17.010000   -2.660000 -67.790001 -59.549999 -30.570000  -21.000000   \n",
      "3  111.650002  102.610001  60.880001  70.980003  88.260002  119.360001   \n",
      "4  -13.820000    1.860000 -55.029999 -56.889999 -24.459999   -5.580000   \n",
      "\n",
      "          F4         C4          P4          F8          T4          T6  \\\n",
      "0  80.550003  57.689999   81.610001   98.360001   86.660004   78.949997   \n",
      "1 -47.590000 -67.260002  -40.939999  -29.770000  -36.689999  -43.599998   \n",
      "2 -34.290001 -41.200001  -13.290000   -9.840000  -12.760000  -14.890000   \n",
      "3  97.830002  90.650002  114.839996  120.959999  119.099998  113.779999   \n",
      "4 -19.139999 -36.150002   -9.570000    1.060000   -3.460000   -9.840000   \n",
      "\n",
      "           O2         EKG  \n",
      "0   68.589996  -93.580002  \n",
      "1  -44.130001  -90.919998  \n",
      "2  -18.870001 -114.580002  \n",
      "3  100.750000 -107.129997  \n",
      "4  -13.290000  -89.589996  \n"
     ]
    }
   ],
   "source": [
    "# View the first few rows of each DataFrame\n",
    "print(\"Train EEGs Data:\")\n",
    "for df in train_eegs:\n",
    "    print(df.head())\n",
    "\n",
    "\n"
   ]
  },
  {
   "cell_type": "code",
   "execution_count": 8,
   "id": "8e091a8a",
   "metadata": {
    "execution": {
     "iopub.execute_input": "2024-02-15T14:39:52.445990Z",
     "iopub.status.busy": "2024-02-15T14:39:52.444763Z",
     "iopub.status.idle": "2024-02-15T14:39:52.459925Z",
     "shell.execute_reply": "2024-02-15T14:39:52.458574Z"
    },
    "papermill": {
     "duration": 0.026267,
     "end_time": "2024-02-15T14:39:52.462377",
     "exception": false,
     "start_time": "2024-02-15T14:39:52.436110",
     "status": "completed"
    },
    "tags": []
   },
   "outputs": [
    {
     "name": "stdout",
     "output_type": "stream",
     "text": [
      "\n",
      "Test EEGs Data:\n",
      "         Fp1         F3         C3     P3         F7     T3         T5     O1  \\\n",
      "0   9.210000 -47.459999  15.100000   8.22 -16.900000 -22.99 -25.820000 -10.09   \n",
      "1  -3.590000 -30.290001  32.380001  10.80 -68.980003 -21.60 -15.080000  -9.21   \n",
      "2 -26.040001 -60.070000   2.370000 -10.15 -34.689999 -31.40 -31.920000 -26.98   \n",
      "3  -3.040000 -36.250000  29.559999  14.53 -14.010000 -11.90 -14.230000  -6.31   \n",
      "4  -4.630000 -20.160000  25.190001   1.19 -44.580002 -23.51 -30.709999 -17.60   \n",
      "\n",
      "          Fz     Cz         Pz         Fp2         F4     C4     P4  \\\n",
      "0  28.370001  -3.01 -27.299999  101.040001  35.110001  14.54  18.33   \n",
      "1  26.360001  -8.98 -32.279999   95.800003  26.389999   4.82  10.54   \n",
      "2  -1.940000 -28.77 -49.770000   73.449997  -3.680000 -17.32 -16.15   \n",
      "3  26.040001  -2.77 -25.030001   91.010002  22.610001   6.90   9.93   \n",
      "4  25.420000  -8.86 -33.959999   89.449997  19.440001  -2.08   6.11   \n",
      "\n",
      "          F8         T4         T6     O2         EKG  \n",
      "0  28.540001  44.090000  69.650002  30.74  171.679993  \n",
      "1  20.559999  32.060001  59.439999  23.32  178.279999  \n",
      "2  -8.270000   5.330000  45.180000   9.49  306.739990  \n",
      "3  15.480000  33.580002  69.620003  31.01  223.259995  \n",
      "4   8.380000  24.180000  55.869999  19.91  170.759995  \n"
     ]
    }
   ],
   "source": [
    "print(\"\\nTest EEGs Data:\")\n",
    "for df in test_eegs:\n",
    "    print(df.head())\n",
    "\n"
   ]
  },
  {
   "cell_type": "code",
   "execution_count": 9,
   "id": "80d83d69",
   "metadata": {
    "execution": {
     "iopub.execute_input": "2024-02-15T14:39:52.477853Z",
     "iopub.status.busy": "2024-02-15T14:39:52.477261Z",
     "iopub.status.idle": "2024-02-15T14:39:52.536738Z",
     "shell.execute_reply": "2024-02-15T14:39:52.535511Z"
    },
    "papermill": {
     "duration": 0.070606,
     "end_time": "2024-02-15T14:39:52.539703",
     "exception": false,
     "start_time": "2024-02-15T14:39:52.469097",
     "status": "completed"
    },
    "tags": []
   },
   "outputs": [
    {
     "name": "stdout",
     "output_type": "stream",
     "text": [
      "\n",
      "Train Spectrograms Data:\n",
      "   time    LL_0.59    LL_0.78    LL_0.98    LL_1.17    LL_1.37    LL_1.56  \\\n",
      "0     1  28.680000  53.990002  67.629997  59.880001  50.880001  74.309998   \n",
      "1     3  29.639999  38.959999  44.009998  66.800003  48.509998  42.180000   \n",
      "2     5   8.890000   9.020000  16.360001  23.559999  27.340000  30.040001   \n",
      "3     7   1.770000   1.930000   1.810000   1.600000   1.430000   1.280000   \n",
      "4     9        NaN        NaN        NaN        NaN        NaN        NaN   \n",
      "\n",
      "     LL_1.76    LL_1.95    LL_2.15  ...  RP_18.16  RP_18.36  RP_18.55  \\\n",
      "0  78.480003  63.080002  59.869999  ...      0.13      0.14      0.08   \n",
      "1  47.340000  48.599998  40.880001  ...      0.15      0.13      0.08   \n",
      "2  27.559999  23.290001  15.120000  ...      0.12      0.11      0.08   \n",
      "3   1.190000   1.110000   1.010000  ...      0.03      0.03      0.03   \n",
      "4        NaN        NaN        NaN  ...       NaN       NaN       NaN   \n",
      "\n",
      "   RP_18.75  RP_18.95  RP_19.14  RP_19.34  RP_19.53  RP_19.73  RP_19.92  \n",
      "0      0.11      0.04      0.03      0.05      0.05      0.04      0.05  \n",
      "1      0.08      0.07      0.06      0.07      0.06      0.06      0.06  \n",
      "2      0.08      0.09      0.10      0.12      0.14      0.13      0.14  \n",
      "3      0.03      0.03      0.03      0.03      0.04      0.04      0.04  \n",
      "4       NaN       NaN       NaN       NaN       NaN       NaN       NaN  \n",
      "\n",
      "[5 rows x 401 columns]\n",
      "   time  LL_0.59  LL_0.78  LL_0.98  LL_1.17  LL_1.37  LL_1.56  LL_1.76  \\\n",
      "0     1     5.61     6.05     8.50     9.69    11.08    11.88     8.32   \n",
      "1     3     6.96     7.60     8.97    10.26    17.74    18.58    17.32   \n",
      "2     5     5.58     5.89     6.23     4.91     7.61     8.33     9.02   \n",
      "3     7     3.21     3.32     5.54     5.16     9.26     9.83     7.63   \n",
      "4     9     2.36     2.37     2.55    10.52    16.92    17.27    17.16   \n",
      "\n",
      "   LL_1.95  LL_2.15  ...  RP_18.16  RP_18.36  RP_18.55  RP_18.75  RP_18.95  \\\n",
      "0     3.67     2.97  ...      0.33      0.32      0.30      0.35      0.26   \n",
      "1    15.37     7.79  ...      0.53      0.28      0.23      0.41      0.45   \n",
      "2     9.54     4.69  ...      0.12      0.11      0.12      0.11      0.11   \n",
      "3     6.41     1.93  ...      0.08      0.14      0.09      0.17      0.14   \n",
      "4    15.05     8.84  ...      0.08      0.10      0.10      0.09      0.13   \n",
      "\n",
      "   RP_19.14  RP_19.34  RP_19.53  RP_19.73  RP_19.92  \n",
      "0      0.27      0.35      0.35      0.40      0.31  \n",
      "1      0.41      0.38      0.27      0.27      0.28  \n",
      "2      0.11      0.06      0.05      0.07      0.08  \n",
      "3      0.12      0.12      0.11      0.07      0.07  \n",
      "4      0.13      0.05      0.14      0.11      0.11  \n",
      "\n",
      "[5 rows x 401 columns]\n",
      "   time  LL_0.59    LL_0.78  LL_0.98    LL_1.17    LL_1.37    LL_1.56  \\\n",
      "0     1     9.74  10.240000    11.01   8.780000   6.110000   6.170000   \n",
      "1     3    10.14  10.850000     9.45   6.760000   3.870000   2.660000   \n",
      "2     5     8.53  11.950000    10.44   6.910000   5.480000   3.190000   \n",
      "3     7    15.88  21.170000    20.40  16.540001  12.260000   4.360000   \n",
      "4     9    24.09  33.389999    33.50  28.730000  21.950001  17.299999   \n",
      "\n",
      "   LL_1.76  LL_1.95  LL_2.15  ...  RP_18.16  RP_18.36  RP_18.55  RP_18.75  \\\n",
      "0     7.81     6.11     5.39  ...      0.11      0.11      0.13      0.09   \n",
      "1     3.75     3.30     3.89  ...      0.08      0.06      0.07      0.05   \n",
      "2     2.95     2.53     2.56  ...      0.04      0.04      0.06      0.05   \n",
      "3     2.39     2.75     1.92  ...      0.03      0.03      0.04      0.05   \n",
      "4     6.88     6.30     4.49  ...      0.05      0.04      0.05      0.05   \n",
      "\n",
      "   RP_18.95  RP_19.14  RP_19.34  RP_19.53  RP_19.73  RP_19.92  \n",
      "0      0.05      0.06      0.05      0.05      0.07      0.06  \n",
      "1      0.05      0.06      0.04      0.03      0.04      0.04  \n",
      "2      0.07      0.08      0.04      0.05      0.06      0.04  \n",
      "3      0.05      0.04      0.06      0.05      0.07      0.07  \n",
      "4      0.05      0.06      0.07      0.05      0.05      0.04  \n",
      "\n",
      "[5 rows x 401 columns]\n",
      "   time    LL_0.59    LL_0.78    LL_0.98     LL_1.17     LL_1.37     LL_1.56  \\\n",
      "0     1  22.040001  31.780001  51.630001   68.940002  120.150002  160.850006   \n",
      "1     3  30.709999  42.340000  84.370003  123.360001  124.250000  183.990005   \n",
      "2     5  44.680000  61.049999  64.820000   87.779999   81.120003   68.260002   \n",
      "3     7  38.009998  52.200001  65.070000   72.199997   62.230000   56.080002   \n",
      "4     9  22.270000  26.639999  30.910000   31.670000   31.580000   32.820000   \n",
      "\n",
      "      LL_1.76     LL_1.95     LL_2.15  ...  RP_18.16  RP_18.36  RP_18.55  \\\n",
      "0  155.250000  128.520004   83.400002  ...      1.72      1.37      2.95   \n",
      "1  184.460007  154.270004  119.739998  ...      3.33      1.24      1.32   \n",
      "2   67.230003   55.340000   43.009998  ...      2.01      0.57      0.79   \n",
      "3   44.799999   42.910000   36.070000  ...      0.76      0.96      0.64   \n",
      "4   25.660000   23.610001   19.480000  ...      1.63      1.16      1.27   \n",
      "\n",
      "   RP_18.75  RP_18.95  RP_19.14  RP_19.34  RP_19.53  RP_19.73  RP_19.92  \n",
      "0      3.37      2.96      2.86      2.23      1.52      1.48      2.41  \n",
      "1      1.62      2.13      1.62      2.10      1.55      1.49      1.55  \n",
      "2      0.75      0.59      0.54      0.59      0.95      0.84      0.46  \n",
      "3      1.07      1.40      1.37      1.84      2.09      1.78      1.45  \n",
      "4      1.38      1.99      1.84      1.17      2.60      1.61      1.59  \n",
      "\n",
      "[5 rows x 401 columns]\n",
      "   time    LL_0.59    LL_0.78    LL_0.98    LL_1.17    LL_1.37  LL_1.56  \\\n",
      "0     1  37.049999  48.119999  51.349998  38.730000  29.540001    18.67   \n",
      "1     3  34.750000  56.540001  50.029999  41.169998  32.910000    11.01   \n",
      "2     5  36.790001  42.240002  47.419998  35.000000  21.440001    12.04   \n",
      "3     7  38.130001  35.279999  48.020000  19.160000  12.880000    11.79   \n",
      "4     9  32.230000  35.470001  36.220001  23.860001  13.650000     9.93   \n",
      "\n",
      "     LL_1.76  LL_1.95  LL_2.15  ...  RP_18.16  RP_18.36  RP_18.55  RP_18.75  \\\n",
      "0  12.570000    13.76    14.94  ...      0.03      0.03      0.02      0.02   \n",
      "1  17.110001    18.90    13.96  ...      0.02      0.02      0.03      0.02   \n",
      "2   5.980000     7.20     6.59  ...      0.02      0.02      0.02      0.03   \n",
      "3   6.820000     3.47     3.52  ...      0.02      0.03      0.04      0.02   \n",
      "4   8.910000     6.39     4.39  ...      0.02      0.03      0.03      0.04   \n",
      "\n",
      "   RP_18.95  RP_19.14  RP_19.34  RP_19.53  RP_19.73  RP_19.92  \n",
      "0      0.02      0.03      0.03      0.03      0.02      0.02  \n",
      "1      0.03      0.03      0.01      0.03      0.02      0.03  \n",
      "2      0.03      0.03      0.02      0.02      0.02      0.03  \n",
      "3      0.02      0.02      0.02      0.02      0.02      0.02  \n",
      "4      0.04      0.03      0.03      0.03      0.03      0.02  \n",
      "\n",
      "[5 rows x 401 columns]\n"
     ]
    }
   ],
   "source": [
    "print(\"\\nTrain Spectrograms Data:\")\n",
    "for df in train_spectrograms:\n",
    "    print(df.head())\n"
   ]
  },
  {
   "cell_type": "code",
   "execution_count": 10,
   "id": "f64ff450",
   "metadata": {
    "execution": {
     "iopub.execute_input": "2024-02-15T14:39:52.555660Z",
     "iopub.status.busy": "2024-02-15T14:39:52.555263Z",
     "iopub.status.idle": "2024-02-15T14:39:52.573405Z",
     "shell.execute_reply": "2024-02-15T14:39:52.572011Z"
    },
    "papermill": {
     "duration": 0.029582,
     "end_time": "2024-02-15T14:39:52.576596",
     "exception": false,
     "start_time": "2024-02-15T14:39:52.547014",
     "status": "completed"
    },
    "tags": []
   },
   "outputs": [
    {
     "name": "stdout",
     "output_type": "stream",
     "text": [
      "\n",
      "Test Spectrograms Data:\n",
      "   time    LL_0.59    LL_0.78    LL_0.98  LL_1.17  LL_1.37  LL_1.56  LL_1.76  \\\n",
      "0     1  14.910000  17.110001  11.660000    11.73     6.08     4.54     4.31   \n",
      "1     3  11.130000  10.950000  10.770000     5.07     4.03     3.24     3.61   \n",
      "2     5  10.880000  10.570000   8.790000     5.33     2.44     1.48     1.83   \n",
      "3     7  19.450001  18.200001  17.719999    13.38     4.17     1.88     1.84   \n",
      "4     9  21.650000  22.530001  23.160000    17.00     7.19     3.89     3.65   \n",
      "\n",
      "   LL_1.95  LL_2.15  ...  RP_18.16  RP_18.36  RP_18.55  RP_18.75  RP_18.95  \\\n",
      "0     3.38     2.05  ...      0.07      0.06      0.05      0.06      0.05   \n",
      "1     2.98     1.54  ...      0.05      0.04      0.04      0.04      0.04   \n",
      "2     0.99     0.89  ...      0.04      0.04      0.04      0.03      0.03   \n",
      "3     1.22     1.27  ...      0.03      0.03      0.05      0.08      0.07   \n",
      "4     2.72     2.35  ...      0.04      0.04      0.05      0.05      0.06   \n",
      "\n",
      "   RP_19.14  RP_19.34  RP_19.53  RP_19.73  RP_19.92  \n",
      "0      0.05      0.06      0.05      0.04      0.05  \n",
      "1      0.04      0.03      0.03      0.03      0.02  \n",
      "2      0.04      0.04      0.05      0.06      0.06  \n",
      "3      0.07      0.08      0.03      0.03      0.03  \n",
      "4      0.05      0.05      0.05      0.04      0.03  \n",
      "\n",
      "[5 rows x 401 columns]\n"
     ]
    }
   ],
   "source": [
    "\n",
    "print(\"\\nTest Spectrograms Data:\")\n",
    "for df in test_spectrograms:\n",
    "    print(df.head())"
   ]
  },
  {
   "cell_type": "code",
   "execution_count": 11,
   "id": "b7d41ca2",
   "metadata": {
    "execution": {
     "iopub.execute_input": "2024-02-15T14:39:52.592660Z",
     "iopub.status.busy": "2024-02-15T14:39:52.592232Z",
     "iopub.status.idle": "2024-02-15T14:39:52.601197Z",
     "shell.execute_reply": "2024-02-15T14:39:52.599455Z"
    },
    "papermill": {
     "duration": 0.020106,
     "end_time": "2024-02-15T14:39:52.603926",
     "exception": false,
     "start_time": "2024-02-15T14:39:52.583820",
     "status": "completed"
    },
    "tags": []
   },
   "outputs": [],
   "source": [
    "# Model building\n",
    "def create_model(input_shape):\n",
    "    model = Sequential([\n",
    "        Conv1D(32, 3, activation='relu', input_shape=input_shape),\n",
    "        MaxPooling1D(2),\n",
    "        Conv1D(64, 3, activation='relu'),\n",
    "        MaxPooling1D(2),\n",
    "        Flatten(),\n",
    "        Dense(128, activation='relu'),\n",
    "        Dropout(0.5),\n",
    "        Dense(6, activation='softmax')\n",
    "    ])\n",
    "    model.compile(optimizer='adam', loss='categorical_crossentropy', metrics=['accuracy'])\n",
    "    return model"
   ]
  },
  {
   "cell_type": "code",
   "execution_count": 12,
   "id": "046bfc59",
   "metadata": {
    "execution": {
     "iopub.execute_input": "2024-02-15T14:39:52.620451Z",
     "iopub.status.busy": "2024-02-15T14:39:52.619952Z",
     "iopub.status.idle": "2024-02-15T14:39:52.627159Z",
     "shell.execute_reply": "2024-02-15T14:39:52.625773Z"
    },
    "papermill": {
     "duration": 0.01868,
     "end_time": "2024-02-15T14:39:52.629755",
     "exception": false,
     "start_time": "2024-02-15T14:39:52.611075",
     "status": "completed"
    },
    "tags": []
   },
   "outputs": [
    {
     "name": "stdout",
     "output_type": "stream",
     "text": [
      "(1, 11600, 20)\n"
     ]
    }
   ],
   "source": [
    "import numpy as np\n",
    "train_eegs_array = np.array(train_eegs)\n",
    "print(train_eegs_array.shape)\n"
   ]
  },
  {
   "cell_type": "code",
   "execution_count": 13,
   "id": "6df66b42",
   "metadata": {
    "execution": {
     "iopub.execute_input": "2024-02-15T14:39:52.647231Z",
     "iopub.status.busy": "2024-02-15T14:39:52.646845Z",
     "iopub.status.idle": "2024-02-15T14:39:52.655762Z",
     "shell.execute_reply": "2024-02-15T14:39:52.654451Z"
    },
    "papermill": {
     "duration": 0.021177,
     "end_time": "2024-02-15T14:39:52.658162",
     "exception": false,
     "start_time": "2024-02-15T14:39:52.636985",
     "status": "completed"
    },
    "tags": []
   },
   "outputs": [
    {
     "name": "stdout",
     "output_type": "stream",
     "text": [
      "(106800, 6)\n"
     ]
    }
   ],
   "source": [
    "import pandas as pd\n",
    "train_metadata_df = pd.DataFrame(train_metadata)\n",
    "metadata_features = ['seizure_vote', 'lpd_vote', 'gpd_vote', 'lrda_vote', 'grda_vote', 'other_vote']\n",
    "metadata_subset = train_metadata_df[metadata_features]\n",
    "print(metadata_subset.shape)\n"
   ]
  },
  {
   "cell_type": "code",
   "execution_count": 14,
   "id": "179a0045",
   "metadata": {
    "execution": {
     "iopub.execute_input": "2024-02-15T14:39:52.674502Z",
     "iopub.status.busy": "2024-02-15T14:39:52.674080Z",
     "iopub.status.idle": "2024-02-15T14:39:52.679092Z",
     "shell.execute_reply": "2024-02-15T14:39:52.677935Z"
    },
    "papermill": {
     "duration": 0.015732,
     "end_time": "2024-02-15T14:39:52.681266",
     "exception": false,
     "start_time": "2024-02-15T14:39:52.665534",
     "status": "completed"
    },
    "tags": []
   },
   "outputs": [],
   "source": [
    "train_eegs_reshaped = train_eegs_array.reshape(11600, 20)\n"
   ]
  },
  {
   "cell_type": "code",
   "execution_count": 15,
   "id": "dade39f7",
   "metadata": {
    "execution": {
     "iopub.execute_input": "2024-02-15T14:39:52.697412Z",
     "iopub.status.busy": "2024-02-15T14:39:52.696969Z",
     "iopub.status.idle": "2024-02-15T14:39:52.709542Z",
     "shell.execute_reply": "2024-02-15T14:39:52.708177Z"
    },
    "papermill": {
     "duration": 0.023973,
     "end_time": "2024-02-15T14:39:52.712362",
     "exception": false,
     "start_time": "2024-02-15T14:39:52.688389",
     "status": "completed"
    },
    "tags": []
   },
   "outputs": [],
   "source": [
    "import numpy as np\n",
    "import pandas as pd\n",
    "from sklearn.model_selection import train_test_split\n",
    "\n",
    "train_eegs_array = np.array(train_eegs)\n",
    "train_eegs_reshaped = train_eegs_array.reshape(11600, 20)\n",
    "\n",
    "# Assuming metadata_subset is the target labels\n",
    "metadata_features = ['seizure_vote', 'lpd_vote', 'gpd_vote', 'lrda_vote', 'grda_vote', 'other_vote']\n",
    "metadata_subset = train_metadata_df[metadata_features]\n",
    "\n",
    "# Align the number of samples in metadata_subset with train_eegs_reshaped\n",
    "metadata_subset_subset = metadata_subset.iloc[:11600]  \n",
    "\n",
    "# Perform train-test split\n",
    "X_train, X_val, y_train, y_val = train_test_split(train_eegs_reshaped, metadata_subset_subset, test_size=0.2, random_state=42)\n"
   ]
  },
  {
   "cell_type": "code",
   "execution_count": 16,
   "id": "4de4c8fc",
   "metadata": {
    "execution": {
     "iopub.execute_input": "2024-02-15T14:39:52.728827Z",
     "iopub.status.busy": "2024-02-15T14:39:52.728433Z",
     "iopub.status.idle": "2024-02-15T14:40:07.124702Z",
     "shell.execute_reply": "2024-02-15T14:40:07.123637Z"
    },
    "papermill": {
     "duration": 14.407671,
     "end_time": "2024-02-15T14:40:07.127302",
     "exception": false,
     "start_time": "2024-02-15T14:39:52.719631",
     "status": "completed"
    },
    "tags": []
   },
   "outputs": [
    {
     "name": "stdout",
     "output_type": "stream",
     "text": [
      "Epoch 1/10\n",
      "290/290 [==============================] - 3s 6ms/step - loss: 645555.5000 - accuracy: 0.1675 - val_loss: 1890481.6250 - val_accuracy: 0.1586\n",
      "Epoch 2/10\n",
      "290/290 [==============================] - 1s 4ms/step - loss: 14321111.0000 - accuracy: 0.1720 - val_loss: 18212074.0000 - val_accuracy: 0.1586\n",
      "Epoch 3/10\n",
      "290/290 [==============================] - 1s 4ms/step - loss: 65322724.0000 - accuracy: 0.1773 - val_loss: 72497360.0000 - val_accuracy: 0.1586\n",
      "Epoch 4/10\n",
      "290/290 [==============================] - 1s 4ms/step - loss: 170864256.0000 - accuracy: 0.1745 - val_loss: 213573680.0000 - val_accuracy: 0.1586\n",
      "Epoch 5/10\n",
      "290/290 [==============================] - 1s 4ms/step - loss: 357496288.0000 - accuracy: 0.1809 - val_loss: 424347072.0000 - val_accuracy: 0.1586\n",
      "Epoch 6/10\n",
      "290/290 [==============================] - 1s 4ms/step - loss: 660069312.0000 - accuracy: 0.1773 - val_loss: 688214656.0000 - val_accuracy: 0.1586\n",
      "Epoch 7/10\n",
      "290/290 [==============================] - 1s 4ms/step - loss: 1021109888.0000 - accuracy: 0.1765 - val_loss: 925378240.0000 - val_accuracy: 0.1586\n",
      "Epoch 8/10\n",
      "290/290 [==============================] - 1s 4ms/step - loss: 1421435008.0000 - accuracy: 0.1669 - val_loss: 1604819200.0000 - val_accuracy: 0.1586\n",
      "Epoch 9/10\n",
      "290/290 [==============================] - 1s 4ms/step - loss: 2163369472.0000 - accuracy: 0.1808 - val_loss: 2027455616.0000 - val_accuracy: 0.2030\n",
      "Epoch 10/10\n",
      "290/290 [==============================] - 1s 4ms/step - loss: 2748857344.0000 - accuracy: 0.1688 - val_loss: 2677662208.0000 - val_accuracy: 0.1586\n"
     ]
    }
   ],
   "source": [
    "from tensorflow.keras.models import Sequential\n",
    "from tensorflow.keras.layers import Conv1D, MaxPooling1D, Flatten, Dense, Dropout\n",
    "\n",
    "# Train the model\n",
    "model = create_model(input_shape=(X_train.shape[1], 1))\n",
    "history = model.fit(np.expand_dims(X_train, axis=-1), y_train, epochs=10, batch_size=32, validation_data=(np.expand_dims(X_val, axis=-1), y_val))\n"
   ]
  },
  {
   "cell_type": "code",
   "execution_count": 17,
   "id": "49be51c6",
   "metadata": {
    "execution": {
     "iopub.execute_input": "2024-02-15T14:40:07.174345Z",
     "iopub.status.busy": "2024-02-15T14:40:07.173119Z",
     "iopub.status.idle": "2024-02-15T14:40:07.391161Z",
     "shell.execute_reply": "2024-02-15T14:40:07.390280Z"
    },
    "papermill": {
     "duration": 0.244232,
     "end_time": "2024-02-15T14:40:07.393352",
     "exception": false,
     "start_time": "2024-02-15T14:40:07.149120",
     "status": "completed"
    },
    "tags": []
   },
   "outputs": [
    {
     "data": {
      "image/png": "[encoded data removed]",
      "text/plain": [
       "<Figure size 640x480 with 1 Axes>"
      ]
     },
     "metadata": {},
     "output_type": "display_data"
    }
   ],
   "source": [
    "# Model evaluation\n",
    "plt.plot(history.history['accuracy'], label='accuracy')\n",
    "plt.plot(history.history['val_accuracy'], label = 'val_accuracy')\n",
    "plt.xlabel('Epoch')\n",
    "plt.ylabel('Accuracy')\n",
    "plt.ylim([0, 1])\n",
    "plt.legend(loc='lower right')\n",
    "plt.show()\n"
   ]
  },
  {
   "cell_type": "code",
   "execution_count": 18,
   "id": "0d5a98b2",
   "metadata": {
    "execution": {
     "iopub.execute_input": "2024-02-15T14:40:07.440182Z",
     "iopub.status.busy": "2024-02-15T14:40:07.438990Z",
     "iopub.status.idle": "2024-02-15T14:40:07.640726Z",
     "shell.execute_reply": "2024-02-15T14:40:07.639618Z"
    },
    "papermill": {
     "duration": 0.227924,
     "end_time": "2024-02-15T14:40:07.643431",
     "exception": false,
     "start_time": "2024-02-15T14:40:07.415507",
     "status": "completed"
    },
    "tags": []
   },
   "outputs": [
    {
     "name": "stdout",
     "output_type": "stream",
     "text": [
      "1/1 [==============================] - 0s 136ms/step\n"
     ]
    }
   ],
   "source": [
    "\n",
    "import numpy as np\n",
    "\n",
    "# Assuming `test_eegs` is your test data\n",
    "test_eegs_array = np.array(test_eegs)\n",
    "\n",
    "# Aggregate the features (take the mean across the last axis)\n",
    "test_eegs_aggregated = np.mean(test_eegs_array, axis=1)  # Aggregate along the 10000 features\n",
    "\n",
    "# Reshape the data to match the model's input shape\n",
    "test_eegs_reshaped = np.expand_dims(test_eegs_aggregated, axis=-1)\n",
    "\n",
    "# Now, you can use this reshaped data for prediction\n",
    "test_predictions = model.predict(test_eegs_reshaped)\n"
   ]
  },
  {
   "cell_type": "code",
   "execution_count": 19,
   "id": "114052b4",
   "metadata": {
    "execution": {
     "iopub.execute_input": "2024-02-15T14:40:07.690507Z",
     "iopub.status.busy": "2024-02-15T14:40:07.690086Z",
     "iopub.status.idle": "2024-02-15T14:40:07.705211Z",
     "shell.execute_reply": "2024-02-15T14:40:07.704028Z"
    },
    "papermill": {
     "duration": 0.042117,
     "end_time": "2024-02-15T14:40:07.708030",
     "exception": false,
     "start_time": "2024-02-15T14:40:07.665913",
     "status": "completed"
    },
    "tags": []
   },
   "outputs": [],
   "source": [
    "# Submission preparation\n",
    "\n",
    "#submission_df = pd.DataFrame(test_predictions, columns=['seizure_vote', 'lpd_vote', 'gpd_vote', 'lrda_vote', 'grda_vote', 'other_vote'])\n",
    "#submission_df.insert(0, 'eeg_id', test_metadata['eeg_id'])\n",
    "\n",
    "\n",
    "# Create submission dataframe with correct column names and eeg_id\n",
    "submission_df = pd.DataFrame(columns=['eeg_id', 'seizure_vote', 'lpd_vote', 'gpd_vote', 'lrda_vote', 'grda_vote', 'other_vote'])\n",
    "submission_df['eeg_id'] = test_metadata['eeg_id']\n",
    "\n",
    "# Assign test predictions to respective columns\n",
    "submission_df[['seizure_vote', 'lpd_vote', 'gpd_vote', 'lrda_vote', 'grda_vote', 'other_vote']] = test_predictions\n",
    "\n",
    "# Save submission file\n",
    "submission_df.to_csv('submission.csv', index=False)\n"
   ]
  },
  {
   "cell_type": "code",
   "execution_count": 20,
   "id": "70cfec3e",
   "metadata": {
    "execution": {
     "iopub.execute_input": "2024-02-15T14:40:07.754155Z",
     "iopub.status.busy": "2024-02-15T14:40:07.753758Z",
     "iopub.status.idle": "2024-02-15T14:40:07.764381Z",
     "shell.execute_reply": "2024-02-15T14:40:07.763217Z"
    },
    "papermill": {
     "duration": 0.036453,
     "end_time": "2024-02-15T14:40:07.766545",
     "exception": false,
     "start_time": "2024-02-15T14:40:07.730092",
     "status": "completed"
    },
    "tags": []
   },
   "outputs": [
    {
     "name": "stdout",
     "output_type": "stream",
     "text": [
      "       eeg_id  seizure_vote  lpd_vote  gpd_vote  lrda_vote  grda_vote  \\\n",
      "0  3911565283           0.0       0.0       0.0        0.0        0.0   \n",
      "\n",
      "   other_vote  \n",
      "0         1.0  \n"
     ]
    }
   ],
   "source": [
    "print(submission_df.head())\n",
    "submission_df.to_csv('submission.csv', index=False)"
   ]
  },
  {
   "cell_type": "code",
   "execution_count": null,
   "id": "683fa1ac",
   "metadata": {
    "papermill": {
     "duration": 0.022012,
     "end_time": "2024-02-15T14:40:07.810803",
     "exception": false,
     "start_time": "2024-02-15T14:40:07.788791",
     "status": "completed"
    },
    "tags": []
   },
   "outputs": [],
   "source": []
  }
 ],
 "metadata": {
  "kaggle": {
   "accelerator": "none",
   "dataSources": [
    {
     "databundleVersionId": 7469972,
     "sourceId": 59093,
     "sourceType": "competition"
    }
   ],
   "dockerImageVersionId": 30646,
   "isGpuEnabled": false,
   "isInternetEnabled": false,
   "language": "python",
   "sourceType": "notebook"
  },
  "kernelspec": {
   "display_name": "Python 3",
   "language": "python",
   "name": "python3"
  },
  "language_info": {
   "codemirror_mode": {
    "name": "ipython",
    "version": 3
   },
   "file_extension": ".py",
   "mimetype": "text/x-python",
   "name": "python",
   "nbconvert_exporter": "python",
   "pygments_lexer": "ipython3",
   "version": "3.10.13"
  },
  "papermill": {
   "default_parameters": {},
   "duration": 39.166795,
   "end_time": "2024-02-15T14:40:10.173253",
   "environment_variables": {},
   "exception": null,
   "input_path": "__notebook__.ipynb",
   "output_path": "__notebook__.ipynb",
   "parameters": {},
   "start_time": "2024-02-15T14:39:31.006458",
   "version": "2.5.0"
  }
 },
 "nbformat": 4,
 "nbformat_minor": 5
}
